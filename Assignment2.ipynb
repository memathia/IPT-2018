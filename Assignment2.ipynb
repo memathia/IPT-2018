{
 "cells": [
  {
   "cell_type": "code",
   "execution_count": 1,
   "metadata": {},
   "outputs": [
    {
     "name": "stdout",
     "output_type": "stream",
     "text": [
      "METHUSELA\n"
     ]
    }
   ],
   "source": [
    "name=\"METHUSELA\"\n",
    "print(name)"
   ]
  },
  {
   "cell_type": "code",
   "execution_count": 2,
   "metadata": {},
   "outputs": [
    {
     "name": "stdout",
     "output_type": "stream",
     "text": [
      "The program print name METHUSELA\n"
     ]
    }
   ],
   "source": [
    "print(\"The program print name %s\"%name)"
   ]
  },
  {
   "cell_type": "code",
   "execution_count": 3,
   "metadata": {},
   "outputs": [
    {
     "name": "stdout",
     "output_type": "stream",
     "text": [
      "MATHIAS\n"
     ]
    }
   ],
   "source": [
    "my_name=\"MATHIAS\"\n",
    "print(my_name)"
   ]
  },
  {
   "cell_type": "code",
   "execution_count": 5,
   "metadata": {},
   "outputs": [
    {
     "name": "stdout",
     "output_type": "stream",
     "text": [
      "This number is 24\n"
     ]
    }
   ],
   "source": [
    "my_integer=24\n",
    "print(\"This number is %d\"%my_integer)"
   ]
  },
  {
   "cell_type": "code",
   "execution_count": 2,
   "metadata": {},
   "outputs": [
    {
     "name": "stdout",
     "output_type": "stream",
     "text": [
      "enter your name\tMICHAEL\n",
      "MICHAEL\n"
     ]
    }
   ],
   "source": [
    "name=str(input(\"enter your name\\t\"))\n",
    "print(name)"
   ]
  },
  {
   "cell_type": "code",
   "execution_count": 3,
   "metadata": {},
   "outputs": [
    {
     "name": "stdout",
     "output_type": "stream",
     "text": [
      "enter your number\t4\n",
      "8\n"
     ]
    }
   ],
   "source": [
    "integer=int(input(\"enter your number\\t\"))\n",
    "print(integer*2)"
   ]
  },
  {
   "cell_type": "code",
   "execution_count": 11,
   "metadata": {},
   "outputs": [
    {
     "name": "stdout",
     "output_type": "stream",
     "text": [
      "enter x:\t4\n",
      "enter y:\t6\n",
      "24\n"
     ]
    }
   ],
   "source": [
    "x=int(input(\"enter x:\\t\"))\n",
    "y=int(input(\"enter y:\\t\"))\n",
    "print(x*y)"
   ]
  },
  {
   "cell_type": "code",
   "execution_count": 21,
   "metadata": {},
   "outputs": [
    {
     "name": "stdout",
     "output_type": "stream",
     "text": [
      "enter x\t10\n",
      "the multiple number is 10\tthe multiple number is 10\tthe multiple number is 10\t\n"
     ]
    }
   ],
   "source": [
    "x=int(input(\"enter x\\t\"))\n",
    "if x>=10:\n",
    "    print(\"the multiple number is %d\\t\"%x*3)"
   ]
  },
  {
   "cell_type": "code",
   "execution_count": 5,
   "metadata": {},
   "outputs": [
    {
     "name": "stdout",
     "output_type": "stream",
     "text": [
      "enter x:\t14\n",
      "the multiple number is 14\tthe multiple number is 14\tthe multiple number is 14\t\n"
     ]
    }
   ],
   "source": [
    "x=int(input(\"enter x:\\t\"))\n",
    "if x>=10:\n",
    "    print(\"the multiple number is %d\\t\"%x*3)\n",
    "else:    \n",
    "        print(\"the single number is\",x)"
   ]
  },
  {
   "cell_type": "code",
   "execution_count": 4,
   "metadata": {},
   "outputs": [
    {
     "name": "stdout",
     "output_type": "stream",
     "text": [
      "enter your integer\t14\n",
      "the number is 4\t\n"
     ]
    }
   ],
   "source": [
    "x=int(input(\"enter your integer\\t\"))\n",
    "while x>10:\n",
    "    x=x-10\n",
    "    print(\"the number is %d\\t\"%x)"
   ]
  },
  {
   "cell_type": "code",
   "execution_count": null,
   "metadata": {},
   "outputs": [],
   "source": []
  },
  {
   "cell_type": "code",
   "execution_count": null,
   "metadata": {},
   "outputs": [],
   "source": []
  }
 ],
 "metadata": {
  "kernelspec": {
   "display_name": "Python 3",
   "language": "python",
   "name": "python3"
  },
  "language_info": {
   "codemirror_mode": {
    "name": "ipython",
    "version": 3
   },
   "file_extension": ".py",
   "mimetype": "text/x-python",
   "name": "python",
   "nbconvert_exporter": "python",
   "pygments_lexer": "ipython3",
   "version": "3.6.5"
  }
 },
 "nbformat": 4,
 "nbformat_minor": 2
}
